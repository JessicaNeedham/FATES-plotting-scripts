{
 "cells": [
  {
   "cell_type": "markdown",
   "id": "ff60cd27-7f0b-4ead-a96c-40eeeb01b37a",
   "metadata": {},
   "source": [
    "## Tallo analysis - "
   ]
  },
  {
   "cell_type": "code",
   "execution_count": 1,
   "id": "92910258-41bc-42d4-b60c-fa2377d6fe70",
   "metadata": {
    "tags": []
   },
   "outputs": [],
   "source": [
    "from scipy.stats import qmc\n",
    "import numpy as np\n",
    "import xarray as xr\n",
    "import csv\n",
    "import pandas as pd\n",
    "import os\n",
    "import netCDF4 as nc4\n",
    "from scipy.io import netcdf as nc\n",
    "import sys\n",
    "from tempfile import TemporaryFile                                                                                                                                 \n",
    "import argparse                                                                                                                                                     \n",
    "import shutil                                                                                                                                                       \n",
    "import tempfile \n",
    "import random\n",
    "\n",
    "import math as m\n",
    "from scipy.optimize import curve_fit\n",
    "from scipy.stats import linregress\n",
    "\n",
    "nan = float(\"nan\")\n",
    "\n",
    "#import functions_py.modp as mp\n",
    "#import fates_xarray_functions as fa\n",
    "\n",
    "import matplotlib.pyplot as plt\n",
    "from matplotlib.pyplot import figure\n",
    "from matplotlib import cm\n",
    "import matplotlib.colors as mcolors\n",
    "from matplotlib.colors import Normalize\n",
    "\n",
    "dark = cm.get_cmap('Paired', 12)\n",
    "colormap = dark(range(12))"
   ]
  },
  {
   "cell_type": "code",
   "execution_count": 2,
   "id": "b709d38a-5cfe-483a-8b7a-04f7cc86a78f",
   "metadata": {
    "tags": []
   },
   "outputs": [],
   "source": [
    "df = pd.read_csv('/pscratch/sd/j/jneedham/trait_data/Tallo.csv')\n",
    "df_env = pd.read_csv('/pscratch/sd/j/jneedham/trait_data/Tallo_environment.csv')\n"
   ]
  },
  {
   "cell_type": "markdown",
   "id": "e3c23b81-f1e8-47a1-8ba3-9bd931cb2249",
   "metadata": {},
   "source": [
    "#### add biome column to main data frame"
   ]
  },
  {
   "cell_type": "code",
   "execution_count": 3,
   "id": "9ca59dca-9177-424e-a1f6-421dc8360503",
   "metadata": {
    "tags": []
   },
   "outputs": [
    {
     "name": "stdout",
     "output_type": "stream",
     "text": [
      "  tree_id    division      family   genus           species  latitude  \\\n",
      "0     T_1  Angiosperm  Betulaceae  Betula  Betula pubescens    67.395   \n",
      "1     T_2  Gymnosperm    Pinaceae   Picea       Picea abies    67.395   \n",
      "\n",
      "   longitude  stem_diameter_cm  height_m  crown_radius_m height_outlier  \\\n",
      "0     28.723              10.0       5.6            1.65              N   \n",
      "1     28.723              10.0       6.6            0.85              N   \n",
      "\n",
      "  crown_radius_outlier  reference_id       realm                  biome  \\\n",
      "0                    N             1  Palearctic  Boreal/montane forest   \n",
      "1                    N             1  Palearctic  Boreal/montane forest   \n",
      "\n",
      "   mean_annual_rainfall  rainfall_seasonality  aridity_index  \\\n",
      "0                   571             32.396118          1.125   \n",
      "1                   571             32.396120          1.125   \n",
      "\n",
      "   mean_annual_temperature  maximum_temperature  \n",
      "0                  -1.2625                 18.1  \n",
      "1                  -1.2625                 18.1  \n"
     ]
    }
   ],
   "source": [
    "df_biome = pd.merge(df, df_env, on='tree_id')\n",
    "\n",
    "print(df_biome.head(2))"
   ]
  },
  {
   "cell_type": "markdown",
   "id": "d75a73be-27a7-405d-bcd5-cebe311b30f5",
   "metadata": {},
   "source": [
    "### Make a PFT column that is so far just tropical/extra tropical and broad leaf evergreen"
   ]
  },
  {
   "cell_type": "code",
   "execution_count": 4,
   "id": "e6b43bf4-8e0c-4d94-b62c-194bf97a7e94",
   "metadata": {
    "tags": []
   },
   "outputs": [
    {
     "name": "stdout",
     "output_type": "stream",
     "text": [
      "['Boreal/montane forest' 'Tropical rain forest'\n",
      " 'Temperate broadleaf forest' 'Tropical savanna' 'Tropical dry forest'\n",
      " 'Temperate grassland' 'Temperate conifer forest' 'Mediterranean woodland'\n",
      " 'Dryland' 'Mangrove']\n"
     ]
    }
   ],
   "source": [
    "print(df_biome['biome'].unique())"
   ]
  },
  {
   "cell_type": "code",
   "execution_count": 5,
   "id": "51e7dfca-9635-4963-8d86-b9373b0e24b8",
   "metadata": {
    "tags": []
   },
   "outputs": [
    {
     "name": "stdout",
     "output_type": "stream",
     "text": [
      "['extratrop_tree' 'tropical_tree' 'check']\n"
     ]
    }
   ],
   "source": [
    "def condition(x) : \n",
    "    if x == 'Boreal/montane forest':\n",
    "        return 'extratrop_tree'\n",
    "    elif x == 'Tropical rain forest': \n",
    "        return 'tropical_tree'\n",
    "    elif x == 'Temperate broadleaf forest': \n",
    "        return 'extratrop_tree'\n",
    "    elif x == 'Tropical savanna': \n",
    "        return 'tropical_tree'\n",
    "    elif x == 'Tropical dry forest': \n",
    "        return 'tropical_tree'\n",
    "    elif x == 'Temperate grassland': \n",
    "        return 'extratrop_tree'\n",
    "    elif x == 'Temperate conifer forest': \n",
    "        return 'extratrop_tree'\n",
    "    elif x == 'Mediterranean woodland': \n",
    "        return 'extratrop_tree'\n",
    "    elif x == 'Dryland': \n",
    "        return 'check'\n",
    "    elif x == 'Mangrove': \n",
    "        return 'check'\n",
    "    \n",
    "df_biome['pft1'] = df_biome['biome'].apply(condition)\n",
    "\n",
    "print(df_biome['pft1'].unique())"
   ]
  },
  {
   "cell_type": "code",
   "execution_count": 6,
   "id": "54359d0c-8176-4da5-9cc9-13179477314b",
   "metadata": {
    "tags": []
   },
   "outputs": [
    {
     "name": "stdout",
     "output_type": "stream",
     "text": [
      "-51.56\n",
      "69.88\n"
     ]
    }
   ],
   "source": [
    "print(df_biome['latitude'].min())\n",
    "print(df_biome['latitude'].max())"
   ]
  },
  {
   "cell_type": "markdown",
   "id": "b7b43f52-5226-4875-9109-f62a015fc0b9",
   "metadata": {},
   "source": [
    "#### if biome isn't obvious use lat lon"
   ]
  },
  {
   "cell_type": "code",
   "execution_count": 7,
   "id": "e8979138-2a56-4417-8b95-4e8df999dd77",
   "metadata": {
    "tags": []
   },
   "outputs": [],
   "source": [
    "def condition1b(x,y) : \n",
    "    if x == 'check' and abs(y) >=30 :\n",
    "        return  'extratrop_tree'\n",
    "    elif x  == 'check' and abs(y) <30 :\n",
    "        return 'tropical_tree'\n",
    "    else : \n",
    "        return  x\n",
    "    \n",
    "df_biome['pft1'] = df_biome.apply(lambda row: condition1b(row['pft1'],  row['latitude']), axis=1)\n"
   ]
  },
  {
   "cell_type": "code",
   "execution_count": 8,
   "id": "1887c8e0-16f5-4b88-8749-e66dc70c47a2",
   "metadata": {
    "tags": []
   },
   "outputs": [
    {
     "name": "stdout",
     "output_type": "stream",
     "text": [
      "['extratrop_tree' 'tropical_tree']\n"
     ]
    }
   ],
   "source": [
    "print(df_biome['pft1'].unique())"
   ]
  },
  {
   "cell_type": "code",
   "execution_count": 9,
   "id": "3bc6594f-5edf-42ac-808b-05f9d9edaf79",
   "metadata": {
    "tags": []
   },
   "outputs": [
    {
     "name": "stdout",
     "output_type": "stream",
     "text": [
      "['broadleaf' 'needleleaf' None]\n",
      "['Angiosperm' 'Gymnosperm' nan]\n"
     ]
    }
   ],
   "source": [
    "def condition2(x) : \n",
    "    if x == 'Angiosperm':\n",
    "        return 'broadleaf'\n",
    "    elif x == 'Gymnosperm': \n",
    "        return 'needleleaf'\n",
    "   \n",
    "    \n",
    "df_biome['pft2'] = df_biome['division'].apply(condition2)\n",
    "\n",
    "print(df_biome['pft2'].unique())\n",
    "print(df_biome['division'].unique())"
   ]
  },
  {
   "cell_type": "code",
   "execution_count": 10,
   "id": "6eef2bb4-3fcf-4e64-a754-4dfbe2a1f28d",
   "metadata": {
    "tags": []
   },
   "outputs": [],
   "source": [
    "df_biome['PFT'] = df_biome['pft2'] + '_' + df_biome['pft1']"
   ]
  },
  {
   "cell_type": "code",
   "execution_count": 11,
   "id": "ce9e0ed1-0a4d-444d-a95b-8c4ad784a395",
   "metadata": {
    "tags": []
   },
   "outputs": [
    {
     "name": "stdout",
     "output_type": "stream",
     "text": [
      "['broadleaf_extratrop_tree' 'needleleaf_extratrop_tree'\n",
      " 'broadleaf_tropical_tree' 'needleleaf_tropical_tree' nan]\n"
     ]
    }
   ],
   "source": [
    "print(df_biome['PFT'].unique())"
   ]
  },
  {
   "cell_type": "markdown",
   "id": "ad5b66ed-8ffa-4744-bea4-09be02eaf3df",
   "metadata": {},
   "source": [
    "### Save the csv file "
   ]
  },
  {
   "cell_type": "code",
   "execution_count": 13,
   "id": "6940e3d8-ec53-4e67-89cd-c15980277de2",
   "metadata": {
    "tags": []
   },
   "outputs": [],
   "source": [
    "df_biome.to_csv('/pscratch/sd/j/jneedham/trait_data/Tallo_PFTs.csv', index=False)\n"
   ]
  },
  {
   "cell_type": "code",
   "execution_count": null,
   "id": "5adf9e8c-c302-4529-beee-ec3a630e3806",
   "metadata": {},
   "outputs": [],
   "source": []
  }
 ],
 "metadata": {
  "kernelspec": {
   "display_name": "MyEnv",
   "language": "python",
   "name": "myenv"
  },
  "language_info": {
   "codemirror_mode": {
    "name": "ipython",
    "version": 3
   },
   "file_extension": ".py",
   "mimetype": "text/x-python",
   "name": "python",
   "nbconvert_exporter": "python",
   "pygments_lexer": "ipython3",
   "version": "3.9.7"
  }
 },
 "nbformat": 4,
 "nbformat_minor": 5
}
