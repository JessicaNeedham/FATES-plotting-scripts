{
 "cells": [
  {
   "cell_type": "markdown",
   "id": "040f3d27-a3f6-40c6-ac3c-8c2c934791a3",
   "metadata": {},
   "source": [
    "### Compare the effect of new height, CA and AGB parameters"
   ]
  },
  {
   "cell_type": "code",
   "execution_count": null,
   "id": "c3079e6d-5f04-4a00-bd9e-ce67a4c1e4ac",
   "metadata": {
    "tags": []
   },
   "outputs": [],
   "source": [
    "from scipy.stats import qmc\n",
    "import numpy as np\n",
    "\n",
    "import csv\n",
    "import xarray as xr\n",
    "import pandas as pd\n",
    "import os\n",
    "import netCDF4 as nc4\n",
    "import sys\n",
    "import shutil\n",
    "from tempfile import TemporaryFile                                                                                                                                 \n",
    "import argparse                                                                                                                                                                                                                                                                                                       \n",
    "import tempfile \n",
    "import random\n",
    "import re\n",
    "\n",
    "import matplotlib.pyplot as plt\n",
    "from matplotlib.pyplot import figure\n",
    "from matplotlib import cm\n",
    "import matplotlib.colors as mcolors\n",
    "from matplotlib.colors import Normalize\n",
    "from matplotlib.colors import BoundaryNorm\n",
    "import cartopy.crs as ccrs\n",
    "\n",
    "import functions_py.fates_xarray_functions as fa"
   ]
  },
  {
   "cell_type": "code",
   "execution_count": null,
   "id": "ce383d14-faa3-4fe0-a79b-ba7ac3e07abd",
   "metadata": {
    "tags": []
   },
   "outputs": [],
   "source": [
    "pftnames = ['broadleaf_evergreen_tropical_tree','needleleaf_evergreen_extratrop_tree',\n",
    "         'needleleaf_colddecid_extratrop_tree','broadleaf_evergreen_extratrop_tree',\n",
    "        'broadleaf_hydrodecid_tropical_tree','broadleaf_colddecid_extratrop_tree',\n",
    "        'broadleaf_evergreen_extratrop_shrub','broadleaf_hydrodecid_extratrop_shrub',\n",
    "        'broadleaf_colddecid_extratrop_shrub', 'arctic_c3_grass',\n",
    "        'cool_c3_grasss','c4_grass']"
   ]
  },
  {
   "cell_type": "markdown",
   "id": "5fd59f3d-11ab-4321-b45f-26f3eb123085",
   "metadata": {},
   "source": [
    "###  Load the two fates  runs"
   ]
  },
  {
   "cell_type": "code",
   "execution_count": null,
   "id": "34039f4a-ede4-4289-8b5c-2d0cef02d70c",
   "metadata": {
    "tags": []
   },
   "outputs": [],
   "source": [
    "#fates_allom = '/pscratch/sd/j/jneedham/elm_runs/fbnc_cal/fbnc_f45_allom_v2.Eb8be65d66e-Ffc130cb8.2023-09-30/run/fbnc_f45_allom_v2.Eb8be65d66e-Ffc130cb8.2023-09-30.2050s.nc'\n",
    "fates_allom = '/pscratch/sd/j/jneedham/elm_runs/fbnc_cal/fbnc_f45_allom_v3.Eb8be65d66e-Ffc130cb8.2023-10-03/run/fbnc_f45_allom_v3.Eb8be65d66e-Ffc130cb8.2023-10-03.1990s.nc'\n",
    "fates_allom = xr.open_dataset(fates_allom,  decode_times=False)\n",
    "\n",
    "#fates = '/pscratch/sd/j/jneedham/elm_runs/fbnc_cal/fbnc_f45_allom_control.Eb8be65d66e-Ffc130cb8.2023-09-30/run/fbnc_f45_allom_control.Eb8be65d66e-Ffc130cb8.2023-09-30.2050s.nc'\n",
    "fates = '/pscratch/sd/j/jneedham/elm_runs/fbnc_cal/fbnc_f45_allom_v3_defaults.Eb8be65d66e-Ffc130cb8.2023-10-03/run/fbnc_f45_allom_v3_defaults.Eb8be65d66e-Ffc130cb8.2023-10-03.1990s.nc'\n",
    "fates = xr.open_dataset(fates,  decode_times=False)\n",
    "\n",
    "time = fates.variables['time'] / 365.\n",
    "cohort_size_bins = fates.variables['fates_levscls'][:]\n",
    "nsizebins = len(cohort_size_bins)"
   ]
  },
  {
   "cell_type": "code",
   "execution_count": null,
   "id": "4952b1c2-ebf5-45e4-a1e1-22c7e39d52b4",
   "metadata": {
    "tags": []
   },
   "outputs": [],
   "source": [
    "test = fates.FATES_VEGC_PF\n",
    "print(test.shape)"
   ]
  },
  {
   "cell_type": "markdown",
   "id": "7364cd68-cca4-405b-a627-fae959ce372c",
   "metadata": {},
   "source": [
    "### Veg C by pft"
   ]
  },
  {
   "cell_type": "code",
   "execution_count": null,
   "id": "a8431c91-cd10-422a-99b2-8f28cce56dd4",
   "metadata": {
    "tags": []
   },
   "outputs": [],
   "source": [
    "vegc_pft_allom = fates_allom.FATES_VEGC_PF.mean(dim='time')\n",
    "vegc_pft = fates.FATES_VEGC_PF.mean(dim='time')"
   ]
  },
  {
   "cell_type": "markdown",
   "id": "0dd0b577-061b-41b7-8934-bc46d48a4b2c",
   "metadata": {},
   "source": [
    "#### Old allometries"
   ]
  },
  {
   "cell_type": "code",
   "execution_count": null,
   "id": "edca0a18-d377-44d1-9c5f-006a6b1f54b8",
   "metadata": {
    "tags": []
   },
   "outputs": [],
   "source": [
    "# Define the contour levels to use in plt.contourf\n",
    "clevs=np.arange(0,20,0.1)\n",
    "fig, axs = plt.subplots(nrows=2,ncols=3,\n",
    "                        subplot_kw={'projection': ccrs.PlateCarree()},\n",
    "                        figsize=(18,8))\n",
    "axs=axs.flatten()\n",
    "for i in range(0,6):\n",
    "        cs= vegc_pft.isel(fates_levpft=i).plot(levels=clevs,cmap='Greens',\n",
    "        ax=axs[i],add_colorbar=False)\n",
    "        axs[i].set_title(pftnames[i])\n",
    "        axs[i].coastlines()\n",
    "\n",
    "fig.subplots_adjust(bottom=0.25, top=0.9, left=0.1, right=0.9,\n",
    "                    wspace=0.02, hspace=0.03)\n",
    "cbar_ax = fig.add_axes([0.92, 0.275, 0.02, 0.6])\n",
    "cbar=fig.colorbar(cs, cax=cbar_ax,orientation='vertical')\n",
    "cbar.set_label('Veg C kg m-2')\n"
   ]
  },
  {
   "cell_type": "markdown",
   "id": "81359b00-459c-4072-b3cb-da5af9a8f8ea",
   "metadata": {},
   "source": [
    "#### New allometries"
   ]
  },
  {
   "cell_type": "code",
   "execution_count": null,
   "id": "c19b9f07-1f47-4058-998d-2df1c1c26f06",
   "metadata": {
    "tags": []
   },
   "outputs": [],
   "source": [
    "# Define the contour levels to use in plt.contourf\n",
    "clevs=np.arange(0,20,0.1)\n",
    "fig, axs = plt.subplots(nrows=2,ncols=3,\n",
    "                        subplot_kw={'projection': ccrs.PlateCarree()},\n",
    "                        figsize=(18,8))\n",
    "axs=axs.flatten()\n",
    "for i in range(0,6):\n",
    "        cs= vegc_pft_allom.isel(fates_levpft=i).plot(levels=clevs,cmap='Greens',\n",
    "        ax=axs[i],add_colorbar=False)\n",
    "        axs[i].set_title(pftnames[i])\n",
    "        axs[i].coastlines()\n",
    "\n",
    "fig.subplots_adjust(bottom=0.25, top=0.9, left=0.1, right=0.9,\n",
    "                    wspace=0.02, hspace=0.03)\n",
    "cbar_ax = fig.add_axes([0.92, 0.275, 0.02, 0.6])\n",
    "cbar=fig.colorbar(cs, cax=cbar_ax,orientation='vertical')\n",
    "cbar.set_label('Veg C kg m-2')"
   ]
  },
  {
   "cell_type": "code",
   "execution_count": null,
   "id": "ec6069c2-c832-433d-8208-ad90bf8ca061",
   "metadata": {
    "tags": []
   },
   "outputs": [],
   "source": [
    "diff_vegc = vegc_pft_allom - vegc_pft"
   ]
  },
  {
   "cell_type": "code",
   "execution_count": null,
   "id": "13df41be-e05d-4938-915e-3449f59b2a2d",
   "metadata": {
    "tags": []
   },
   "outputs": [],
   "source": [
    "# Define the contour levels to use in plt.contourf\n",
    "clevs=np.arange(-5.0,5.0,0.1)\n",
    "fig, axs = plt.subplots(nrows=2,ncols=3,\n",
    "                        subplot_kw={'projection': ccrs.PlateCarree()},\n",
    "                        figsize=(18,8))\n",
    "axs=axs.flatten()\n",
    "for i in range(0,6):\n",
    "        cs= diff_vegc.isel(fates_levpft=i).plot(levels=clevs,cmap='bwr',\n",
    "        ax=axs[i],add_colorbar=False)\n",
    "        axs[i].set_title(pftnames[i])\n",
    "        axs[i].coastlines()\n",
    "\n",
    "fig.subplots_adjust(bottom=0.25, top=0.9, left=0.1, right=0.9,\n",
    "                    wspace=0.02, hspace=0.03)\n",
    "cbar_ax = fig.add_axes([0.92, 0.275, 0.02, 0.6])\n",
    "cbar=fig.colorbar(cs, cax=cbar_ax,orientation='vertical')\n",
    "cbar.set_label('Veg C Diff kg m-2')"
   ]
  },
  {
   "cell_type": "markdown",
   "id": "76e6b985-82a8-46e5-82b6-2016171508a4",
   "metadata": {},
   "source": [
    "### LAI by pft  "
   ]
  },
  {
   "cell_type": "code",
   "execution_count": null,
   "id": "25fa1e6e-3561-43b0-af57-609709a5a6e1",
   "metadata": {
    "tags": []
   },
   "outputs": [],
   "source": [
    "lai_canopy = fa.scpf_to_scls_by_pft(fates.FATES_LAI_CANOPY_SZPF, fates)\n",
    "lai_canopy = lai_canopy.sum(dim='fates_levscls').mean(dim='time')\n",
    "lai_ustory = fa.scpf_to_scls_by_pft(fates.FATES_LAI_USTORY_SZPF, fates)\n",
    "lai_ustory = lai_ustory.sum(dim='fates_levscls').mean(dim='time')\n",
    "lai = lai_canopy+lai_ustory\n",
    "\n",
    "lai_canopy_allom = fa.scpf_to_scls_by_pft(fates_allom.FATES_LAI_CANOPY_SZPF, fates_allom)\n",
    "lai_canopy_allom = lai_canopy_allom.sum(dim='fates_levscls').mean(dim='time')\n",
    "lai_ustory_allom = fa.scpf_to_scls_by_pft(fates_allom.FATES_LAI_USTORY_SZPF, fates_allom)\n",
    "lai_ustory_allom = lai_ustory_allom.sum(dim='fates_levscls').mean(dim='time')\n",
    "lai_allom = lai_canopy_allom + lai_ustory_allom"
   ]
  },
  {
   "cell_type": "markdown",
   "id": "ca921749-75b7-4d2f-b45d-e8e06d75b6c4",
   "metadata": {},
   "source": [
    "#### Old allometries"
   ]
  },
  {
   "cell_type": "code",
   "execution_count": null,
   "id": "7bea3b6b-9804-432b-b112-f86534d1ae1c",
   "metadata": {
    "tags": []
   },
   "outputs": [],
   "source": [
    "# Define the contour levels to use in plt.contourf\n",
    "clevs=np.arange(0,4,0.1)\n",
    "fig, axs = plt.subplots(nrows=2,ncols=3,\n",
    "                        subplot_kw={'projection': ccrs.PlateCarree()},\n",
    "                        figsize=(18,8))\n",
    "axs=axs.flatten()\n",
    "for i in range(0,6):\n",
    "        cs= lai.isel(fates_levpft=i).plot(levels=clevs,cmap='Greens',\n",
    "        ax=axs[i],add_colorbar=False)\n",
    "        axs[i].set_title(pftnames[i])\n",
    "        axs[i].coastlines()\n",
    "\n",
    "fig.subplots_adjust(bottom=0.25, top=0.9, left=0.1, right=0.9,\n",
    "                    wspace=0.02, hspace=0.03)\n",
    "cbar_ax = fig.add_axes([0.92, 0.275, 0.02, 0.6])\n",
    "cbar=fig.colorbar(cs, cax=cbar_ax,orientation='vertical')\n",
    "cbar.set_label('LAI')"
   ]
  },
  {
   "cell_type": "markdown",
   "id": "cc4027bc-1193-4f8c-ab57-12e38809baeb",
   "metadata": {},
   "source": [
    "#### New allometries"
   ]
  },
  {
   "cell_type": "code",
   "execution_count": null,
   "id": "77121622-c166-4718-9dd7-e2efa8015728",
   "metadata": {
    "tags": []
   },
   "outputs": [],
   "source": [
    "# Define the contour levels to use in plt.contourf\n",
    "clevs=np.arange(0,4,0.1)\n",
    "fig, axs = plt.subplots(nrows=2,ncols=3,\n",
    "                        subplot_kw={'projection': ccrs.PlateCarree()},\n",
    "                        figsize=(18,8))\n",
    "axs=axs.flatten()\n",
    "for i in range(0,6):\n",
    "        cs= lai_allom.isel(fates_levpft=i).plot(levels=clevs,cmap='Greens',\n",
    "        ax=axs[i],add_colorbar=False)\n",
    "        axs[i].set_title(pftnames[i])\n",
    "        axs[i].coastlines()\n",
    "\n",
    "fig.subplots_adjust(bottom=0.25, top=0.9, left=0.1, right=0.9,\n",
    "                    wspace=0.02, hspace=0.03)\n",
    "cbar_ax = fig.add_axes([0.92, 0.275, 0.02, 0.6])\n",
    "cbar=fig.colorbar(cs, cax=cbar_ax,orientation='vertical')\n",
    "cbar.set_label('LAI')"
   ]
  },
  {
   "cell_type": "markdown",
   "id": "2c9565b8-7ecf-4d80-b3f5-a02dc1944e43",
   "metadata": {},
   "source": [
    "### difference new - old"
   ]
  },
  {
   "cell_type": "code",
   "execution_count": null,
   "id": "c474ec2b-6446-4014-82c1-5bbe839631a4",
   "metadata": {
    "tags": []
   },
   "outputs": [],
   "source": [
    "diff = lai_allom - lai"
   ]
  },
  {
   "cell_type": "code",
   "execution_count": null,
   "id": "fa74ed08-52e9-47d0-bb42-291a73128f63",
   "metadata": {
    "tags": []
   },
   "outputs": [],
   "source": [
    "# Define the contour levels to use in plt.contourf\n",
    "clevs=np.arange(-2,2,0.1)\n",
    "fig, axs = plt.subplots(nrows=2,ncols=3,\n",
    "                        subplot_kw={'projection': ccrs.PlateCarree()},\n",
    "                        figsize=(18,8))\n",
    "axs=axs.flatten()\n",
    "for i in range(0,6):\n",
    "        cs= diff.isel(fates_levpft=i).plot(levels=clevs,cmap='bwr',\n",
    "        ax=axs[i],add_colorbar=False)\n",
    "        axs[i].set_title(pftnames[i])\n",
    "        axs[i].coastlines()\n",
    "\n",
    "fig.subplots_adjust(bottom=0.25, top=0.9, left=0.1, right=0.9,\n",
    "                    wspace=0.02, hspace=0.03)\n",
    "cbar_ax = fig.add_axes([0.92, 0.275, 0.02, 0.6])\n",
    "cbar=fig.colorbar(cs, cax=cbar_ax,orientation='vertical')\n",
    "cbar.set_label('LAI diff')"
   ]
  },
  {
   "cell_type": "markdown",
   "id": "607d1b89-0741-42d4-8b31-d48afe8a583e",
   "metadata": {},
   "source": [
    "###  total LAI v ilamb"
   ]
  },
  {
   "cell_type": "code",
   "execution_count": null,
   "id": "a31d8687-f2f2-4aea-b110-62164ca729ba",
   "metadata": {
    "tags": []
   },
   "outputs": [],
   "source": [
    "fates_lai = fates_allom.FATES_LAI.mean(dim='time')"
   ]
  },
  {
   "cell_type": "code",
   "execution_count": null,
   "id": "f8009cc6-75d6-4c4b-9b61-267c922da1a1",
   "metadata": {
    "tags": []
   },
   "outputs": [],
   "source": [
    "fig2, ((f2ax0)) = plt.subplots(nrows=1,ncols=1,\n",
    "                        subplot_kw={'projection': ccrs.PlateCarree()},\n",
    "                        figsize=(12,6))\n",
    "\n",
    "clevs = np.arange(0.,5,0.1)\n",
    "\n",
    "fates_lai.plot(levels=clevs, transform=ccrs.PlateCarree(),cmap='Greens',\n",
    "         cbar_kwargs={\"label\": \"LAI\"}, ax=f2ax0)\n",
    "f2ax0.coastlines()\n",
    "f2ax0.set_title('FATES LAI', fontsize=15)\n",
    "cbar.set_label('LAI')"
   ]
  },
  {
   "cell_type": "code",
   "execution_count": null,
   "id": "9a92843b-25ec-4bb4-a28a-b697ff4d6e00",
   "metadata": {
    "tags": []
   },
   "outputs": [],
   "source": [
    "ilamb_lai =  '/pscratch/sd/j/jneedham/ILAMB/DATA/lai/MODIS/lai_0.5x0.5.nc'\n",
    "ilamb_lai = xr.open_dataset(ilamb_lai, decode_times=False)\n",
    "ilamb_lai = ilamb_lai.lai \n",
    "ilamb_lai_tmean = ilamb_lai.mean(dim='time')"
   ]
  },
  {
   "cell_type": "code",
   "execution_count": null,
   "id": "ab68c4c9-ac66-4e0e-b70e-ac6859663d79",
   "metadata": {
    "tags": []
   },
   "outputs": [],
   "source": [
    "fig2, ((f2ax0)) = plt.subplots(nrows=1,ncols=1,\n",
    "                        subplot_kw={'projection': ccrs.PlateCarree()},\n",
    "                        figsize=(12,6))\n",
    "\n",
    "clevs = np.arange(0.,5,0.1)\n",
    "ilamb_lai_tmean.plot(levels=clevs, transform=ccrs.PlateCarree(),cmap='Greens',\n",
    "         cbar_kwargs={\"label\": \"LAI\"}, ax=f2ax0)\n",
    "f2ax0.coastlines()\n",
    "f2ax0.set_title('ILAMB (MODIS) LAI', fontsize=15)"
   ]
  },
  {
   "cell_type": "markdown",
   "id": "38915487-fccf-4d39-acaa-3702d93e646e",
   "metadata": {},
   "source": [
    "### Aboveground biomass v ILAMB"
   ]
  },
  {
   "cell_type": "code",
   "execution_count": null,
   "id": "28e24169-cba1-4959-97d0-e2cdc495ee3e",
   "metadata": {
    "tags": []
   },
   "outputs": [],
   "source": [
    "### Note this is aboveground biomass (not carbon) only!\n",
    "ilamb_biomass =  '/pscratch/sd/j/jneedham/ILAMB/DATA/biomass/ESACCI/biomass.nc'\n",
    "ilamb_biomass = xr.open_dataset(ilamb_biomass, decode_times=False)\n",
    "ilamb_biomass = ilamb_biomass.biomass / 10 # convert Megagrams ha-1 to kg m-2\n",
    "ilamb_biomass_tmean = ilamb_biomass.mean(dim='time')"
   ]
  },
  {
   "cell_type": "code",
   "execution_count": null,
   "id": "21140b3b-6a40-418d-be3c-e76cc628fb68",
   "metadata": {
    "tags": []
   },
   "outputs": [],
   "source": [
    "fates_AGB = fates_allom.FATES_VEGC_ABOVEGROUND_SZPF.sum(dim='fates_levscpf')\n",
    "fates_AGB = fates_AGB.mean(dim='time')\n",
    "fates_AGB = fates_AGB * 2"
   ]
  },
  {
   "cell_type": "code",
   "execution_count": null,
   "id": "327e0222-e3aa-443b-a92b-f8b9ddd7eebe",
   "metadata": {
    "tags": []
   },
   "outputs": [],
   "source": [
    "fig2, ((f2ax0)) = plt.subplots(nrows=1,ncols=1,\n",
    "                        subplot_kw={'projection': ccrs.PlateCarree()},\n",
    "                        figsize=(12,6))\n",
    "\n",
    "clevs = np.arange(0.,30.,0.5)\n",
    "\n",
    "fates_AGB.plot(levels=clevs, transform=ccrs.PlateCarree(),cmap='Greens',\n",
    "         cbar_kwargs={\"label\": \"AGB kg m-2\"}, ax=f2ax0)\n",
    "f2ax0.coastlines()\n",
    "f2ax0.set_title('FATES AGB', fontsize=15)\n",
    "cbar.set_label('AGB kg m-2')"
   ]
  },
  {
   "cell_type": "code",
   "execution_count": null,
   "id": "85224ff2-d03d-4595-af26-54d74530a35a",
   "metadata": {
    "tags": []
   },
   "outputs": [],
   "source": [
    "fig2, ((f2ax0)) = plt.subplots(nrows=1,ncols=1,\n",
    "                        subplot_kw={'projection': ccrs.PlateCarree()},\n",
    "                        figsize=(12,6))\n",
    "\n",
    "clevs = np.arange(0.,30.,0.5)\n",
    "ilamb_biomass_tmean.plot(levels=clevs, transform=ccrs.PlateCarree(),cmap='Greens',\n",
    "         cbar_kwargs={\"label\": \"AGB kg m-2\"}, ax=f2ax0)\n",
    "f2ax0.coastlines()\n",
    "f2ax0.set_title('ILAMB (ESACCI) AGB', fontsize=15)"
   ]
  },
  {
   "cell_type": "markdown",
   "id": "eb81934f-3cfb-497d-91e8-3a688b357665",
   "metadata": {},
   "source": [
    "### CUE - just the new allometries"
   ]
  },
  {
   "cell_type": "code",
   "execution_count": null,
   "id": "8e4cddf4-c78d-4564-8546-258a7cf09585",
   "metadata": {
    "tags": []
   },
   "outputs": [],
   "source": [
    "gpp = fates_allom.FATES_GPP_PF.mean(dim='time') * 365 * 86400\n",
    "npp = fa.scpf_to_scls_by_pft(fates_allom.FATES_NPP_SZPF, fates_allom).sum('fates_levscls') * 365 * 86400\n",
    "npp = npp.mean(dim='time')\n",
    "cue = npp/gpp"
   ]
  },
  {
   "cell_type": "code",
   "execution_count": null,
   "id": "5ea55306-9c33-44a7-a932-a6d6aeba24ac",
   "metadata": {
    "tags": []
   },
   "outputs": [],
   "source": [
    "# Define the contour levels to use in plt.contourf\n",
    "clevs=np.arange(0,1.0,0.01)\n",
    "fig, axs = plt.subplots(nrows=4,ncols=3,\n",
    "                        subplot_kw={'projection': ccrs.PlateCarree()},\n",
    "                        figsize=(18,16))\n",
    "axs=axs.flatten()\n",
    "for i in range(0,12):\n",
    "        cs= cue.isel(fates_levpft=i).plot(levels=clevs,cmap='Greens',\n",
    "        ax=axs[i],add_colorbar=False)\n",
    "        axs[i].set_title(pftnames[i])\n",
    "        axs[i].coastlines()\n",
    "\n",
    "fig.subplots_adjust(bottom=0.25, top=0.9, left=0.1, right=0.9,\n",
    "                    wspace=0.02, hspace=0.03)\n",
    "cbar_ax = fig.add_axes([0.92, 0.275, 0.02, 0.6])\n",
    "cbar=fig.colorbar(cs, cax=cbar_ax,orientation='vertical')\n",
    "cbar.set_label('CUE')"
   ]
  },
  {
   "cell_type": "code",
   "execution_count": null,
   "id": "3d5f6d57-2c8e-44c6-9331-4a0451492af6",
   "metadata": {},
   "outputs": [],
   "source": []
  }
 ],
 "metadata": {
  "kernelspec": {
   "display_name": "MyEnv",
   "language": "python",
   "name": "myenv"
  },
  "language_info": {
   "codemirror_mode": {
    "name": "ipython",
    "version": 3
   },
   "file_extension": ".py",
   "mimetype": "text/x-python",
   "name": "python",
   "nbconvert_exporter": "python",
   "pygments_lexer": "ipython3",
   "version": "3.9.7"
  }
 },
 "nbformat": 4,
 "nbformat_minor": 5
}
